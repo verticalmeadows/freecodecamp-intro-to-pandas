{
  "cells": [
    {
      "cell_type": "markdown",
      "metadata": {
        "id": "view-in-github",
        "colab_type": "text"
      },
      "source": [
        "<a href=\"https://colab.research.google.com/github/verticalmeadows/freecodecamp-intro-to-pandas/blob/master/Copy_of_1_Pandas_Series_checkpoint.ipynb\" target=\"_parent\"><img src=\"https://colab.research.google.com/assets/colab-badge.svg\" alt=\"Open In Colab\"/></a>"
      ]
    },
    {
      "cell_type": "markdown",
      "metadata": {
        "id": "CI5Qv8RqfS51"
      },
      "source": [
        "![rmotr](https://user-images.githubusercontent.com/7065401/52071918-bda15380-2562-11e9-828c-7f95297e4a82.png)\n",
        "<hr style=\"margin-bottom: 40px;\">\n",
        "\n",
        "<img src=\"https://user-images.githubusercontent.com/7065401/75165824-badf4680-5701-11ea-9c5b-5475b0a33abf.png\"\n",
        "    style=\"width:300px; float: right; margin: 0 40px 40px 40px;\"></img>\n",
        "\n",
        "# Pandas - Series\n"
      ]
    },
    {
      "cell_type": "markdown",
      "metadata": {
        "id": "jjD5N-cKfS54"
      },
      "source": [
        "![purple-divider](https://user-images.githubusercontent.com/7065401/52071927-c1cd7100-2562-11e9-908a-dde91ba14e59.png)\n",
        "\n",
        "## Hands on! "
      ]
    },
    {
      "cell_type": "code",
      "execution_count": 1,
      "metadata": {
        "id": "O1yZkOUhfS55"
      },
      "outputs": [],
      "source": [
        "import pandas as pd\n",
        "import numpy as np"
      ]
    },
    {
      "cell_type": "markdown",
      "metadata": {
        "id": "ex2deJ-RfS56"
      },
      "source": [
        "## Pandas Series\n",
        "\n",
        "We'll start analyzing \"[The Group of Seven](https://en.wikipedia.org/wiki/Group_of_Seven)\". Which is a political formed by Canada, France, Germany, Italy, Japan, the United Kingdom and the United States. We'll start by analyzing population, and for that, we'll use a `pandas.Series` object."
      ]
    },
    {
      "cell_type": "code",
      "execution_count": 2,
      "metadata": {
        "id": "Ejuzd77tfS57"
      },
      "outputs": [],
      "source": [
        "# In millions\n",
        "g7_pop = pd.Series([35.467, 63.951, 80.940, 60.665, 127.061, 64.511, 318.523])"
      ]
    },
    {
      "cell_type": "code",
      "execution_count": null,
      "metadata": {
        "scrolled": true,
        "id": "spirhw8JfS57"
      },
      "outputs": [],
      "source": [
        "g7_pop"
      ]
    },
    {
      "cell_type": "markdown",
      "metadata": {
        "id": "bjO_B9YdfS58"
      },
      "source": [
        "Someone might not know we're representing population in millions of inhabitants. Series can have a `name`, to better document the purpose of the Series:"
      ]
    },
    {
      "cell_type": "code",
      "execution_count": 3,
      "metadata": {
        "id": "59SSQkWHfS58"
      },
      "outputs": [],
      "source": [
        "g7_pop.name = 'G7 Population in millions'"
      ]
    },
    {
      "cell_type": "code",
      "execution_count": null,
      "metadata": {
        "id": "olzeccKgfS59"
      },
      "outputs": [],
      "source": [
        "g7_pop"
      ]
    },
    {
      "cell_type": "markdown",
      "metadata": {
        "id": "b2nw5vqafS5-"
      },
      "source": [
        "Series are pretty similar to numpy arrays:"
      ]
    },
    {
      "cell_type": "code",
      "execution_count": null,
      "metadata": {
        "id": "C2ih46A9fS5_"
      },
      "outputs": [],
      "source": [
        "g7_pop.dtype"
      ]
    },
    {
      "cell_type": "code",
      "execution_count": null,
      "metadata": {
        "id": "rSulodO_fS6A"
      },
      "outputs": [],
      "source": [
        "g7_pop.values"
      ]
    },
    {
      "cell_type": "markdown",
      "metadata": {
        "id": "rICRi47vfS6A"
      },
      "source": [
        "They're actually backed by numpy arrays:"
      ]
    },
    {
      "cell_type": "code",
      "execution_count": null,
      "metadata": {
        "id": "tdnAiexAfS6B"
      },
      "outputs": [],
      "source": [
        "type(g7_pop.values)"
      ]
    },
    {
      "cell_type": "markdown",
      "metadata": {
        "id": "_wTe2Y5pfS6B"
      },
      "source": [
        "And they _look_ like simple Python lists or Numpy Arrays. But they're actually more similar to Python `dict`s.\n",
        "\n",
        "A Series has an `index`, that's similar to the automatic index assigned to Python's lists:"
      ]
    },
    {
      "cell_type": "code",
      "execution_count": null,
      "metadata": {
        "id": "3Jcyr5mwfS6B"
      },
      "outputs": [],
      "source": [
        "g7_pop[0]"
      ]
    },
    {
      "cell_type": "code",
      "execution_count": null,
      "metadata": {
        "id": "ungd5Z8kfS6D"
      },
      "outputs": [],
      "source": [
        "g7_pop[1]"
      ]
    },
    {
      "cell_type": "code",
      "execution_count": null,
      "metadata": {
        "id": "j6IK8-99fS6D"
      },
      "outputs": [],
      "source": [
        "g7_pop.index"
      ]
    },
    {
      "cell_type": "markdown",
      "metadata": {
        "id": "Pf_CRNZ4fS6E"
      },
      "source": [
        "But, in contrast to lists, we can explicitly define the index:"
      ]
    },
    {
      "cell_type": "code",
      "execution_count": 4,
      "metadata": {
        "id": "eEa4-KSCfS6E"
      },
      "outputs": [],
      "source": [
        "g7_pop.index = [\n",
        "    'Canada',\n",
        "    'France',\n",
        "    'Germany',\n",
        "    'Italy',\n",
        "    'Japan',\n",
        "    'United Kingdom',\n",
        "    'United States',\n",
        "]"
      ]
    },
    {
      "cell_type": "code",
      "execution_count": null,
      "metadata": {
        "id": "etdX0cOUfS6E"
      },
      "outputs": [],
      "source": [
        "g7_pop"
      ]
    },
    {
      "cell_type": "markdown",
      "metadata": {
        "id": "pCfXi_GufS6E"
      },
      "source": [
        "Compare it with the [following table](https://docs.google.com/spreadsheets/d/1IlorV2-Oh9Da1JAZ7weVw86PQrQydSMp-ydVMH135iI/edit?usp=sharing): \n",
        "\n",
        "<img width=\"350\" src=\"https://user-images.githubusercontent.com/872296/38149656-b5ce9816-3431-11e8-88e4-195756e25355.png\" />\n",
        "\n",
        "Series when indexed like this look a lot like Python dictionaries. But Series are ordered and dictionaries are not!\n",
        "\n",
        "We can say that Series look like \"ordered dictionaries\". We can actually create Series out of dictionaries:"
      ]
    },
    {
      "cell_type": "code",
      "execution_count": null,
      "metadata": {
        "scrolled": true,
        "id": "LXscm9dLfS6E"
      },
      "outputs": [],
      "source": [
        "pd.Series({\n",
        "    'Canada': 35.467,\n",
        "    'France': 63.951,\n",
        "    'Germany': 80.94,\n",
        "    'Italy': 60.665,\n",
        "    'Japan': 127.061,\n",
        "    'United Kingdom': 64.511,\n",
        "    'United States': 318.523\n",
        "}, name='G7 Population in millions')"
      ]
    },
    {
      "cell_type": "code",
      "execution_count": null,
      "metadata": {
        "id": "ROOU_lLufS6F"
      },
      "outputs": [],
      "source": [
        "pd.Series(\n",
        "    [35.467, 63.951, 80.94, 60.665, 127.061, 64.511, 318.523],\n",
        "    index=['Canada', 'France', 'Germany', 'Italy', 'Japan', 'United Kingdom',\n",
        "       'United States'],\n",
        "    name='G7 Population in millions')"
      ]
    },
    {
      "cell_type": "markdown",
      "metadata": {
        "id": "jZH7pkZ6fS6G"
      },
      "source": [
        "You can also create Series out of other series, specifying indexes:"
      ]
    },
    {
      "cell_type": "code",
      "execution_count": null,
      "metadata": {
        "scrolled": false,
        "id": "A6G6m0JsfS6H"
      },
      "outputs": [],
      "source": [
        "pd.Series(g7_pop, index=['France', 'Germany', 'Italy', 'Spain'])"
      ]
    },
    {
      "cell_type": "markdown",
      "metadata": {
        "id": "z0FCzayJfS6H"
      },
      "source": [
        "![green-divider](https://user-images.githubusercontent.com/7065401/52071924-c003ad80-2562-11e9-8297-1c6595f8a7ff.png)\n",
        "\n",
        "## Indexing\n",
        "\n",
        "Indexing works similarly to lists and dictionaries, you use the **index** of the element you're looking for:"
      ]
    },
    {
      "cell_type": "code",
      "execution_count": 5,
      "metadata": {
        "id": "7VLDvuycfS6H",
        "colab": {
          "base_uri": "https://localhost:8080/"
        },
        "outputId": "1a2fb6ad-a9f2-484b-8e82-fc48d7ca2609"
      },
      "outputs": [
        {
          "output_type": "execute_result",
          "data": {
            "text/plain": [
              "35.467"
            ]
          },
          "metadata": {},
          "execution_count": 5
        }
      ],
      "source": [
        "g7_pop['Canada']"
      ]
    },
    {
      "cell_type": "code",
      "execution_count": 6,
      "metadata": {
        "id": "AzkYRsjNfS6I",
        "colab": {
          "base_uri": "https://localhost:8080/"
        },
        "outputId": "9db4755c-ebba-4f0a-a817-cc6703a2c9ff"
      },
      "outputs": [
        {
          "output_type": "execute_result",
          "data": {
            "text/plain": [
              "127.061"
            ]
          },
          "metadata": {},
          "execution_count": 6
        }
      ],
      "source": [
        "g7_pop['Japan']"
      ]
    },
    {
      "cell_type": "markdown",
      "metadata": {
        "id": "rACfQwO5fS6I"
      },
      "source": [
        "Numeric positions can also be used, with the `iloc` attribute:"
      ]
    },
    {
      "cell_type": "code",
      "source": [
        "g7_pop[0] # this works too"
      ],
      "metadata": {
        "colab": {
          "base_uri": "https://localhost:8080/"
        },
        "id": "UtHbOX3ohFnf",
        "outputId": "83fa1f43-1e05-4441-f039-95359d3a1920"
      },
      "execution_count": 8,
      "outputs": [
        {
          "output_type": "execute_result",
          "data": {
            "text/plain": [
              "35.467"
            ]
          },
          "metadata": {},
          "execution_count": 8
        }
      ]
    },
    {
      "cell_type": "code",
      "execution_count": 7,
      "metadata": {
        "id": "cbw87JmqfS6I",
        "colab": {
          "base_uri": "https://localhost:8080/"
        },
        "outputId": "e8c7af0d-7871-4f1c-a42e-82b8e8db4bce"
      },
      "outputs": [
        {
          "output_type": "execute_result",
          "data": {
            "text/plain": [
              "35.467"
            ]
          },
          "metadata": {},
          "execution_count": 7
        }
      ],
      "source": [
        "g7_pop.iloc[0]"
      ]
    },
    {
      "cell_type": "code",
      "execution_count": null,
      "metadata": {
        "scrolled": true,
        "id": "o4H0SHXIfS6I"
      },
      "outputs": [],
      "source": [
        "g7_pop.iloc[-1]"
      ]
    },
    {
      "cell_type": "markdown",
      "metadata": {
        "id": "fYK17nAufS6I"
      },
      "source": [
        "Selecting multiple elements at once:"
      ]
    },
    {
      "cell_type": "code",
      "execution_count": null,
      "metadata": {
        "scrolled": true,
        "id": "0XUHuBgJfS6J"
      },
      "outputs": [],
      "source": [
        "g7_pop[['Italy', 'France']]"
      ]
    },
    {
      "cell_type": "markdown",
      "metadata": {
        "id": "HhDxPd9MfS6J"
      },
      "source": [
        "_(The result is another Series)_"
      ]
    },
    {
      "cell_type": "code",
      "execution_count": null,
      "metadata": {
        "scrolled": true,
        "id": "PbjIwnEPfS6K"
      },
      "outputs": [],
      "source": [
        "g7_pop.iloc[[0, 1]]"
      ]
    },
    {
      "cell_type": "markdown",
      "metadata": {
        "id": "6MxdWw2lfS6K"
      },
      "source": [
        "Slicing also works, but **important**, in Pandas, the upper limit is also included:"
      ]
    },
    {
      "cell_type": "code",
      "execution_count": null,
      "metadata": {
        "scrolled": false,
        "id": "CuNtWseEfS6K"
      },
      "outputs": [],
      "source": [
        "g7_pop['Canada': 'Italy']"
      ]
    },
    {
      "cell_type": "code",
      "source": [
        "g7_pop[0:2] # using numbers it doesn't contain the one UP TO which we select it."
      ],
      "metadata": {
        "colab": {
          "base_uri": "https://localhost:8080/"
        },
        "id": "lfFTOXpIhNRB",
        "outputId": "a81a93b5-03ed-4e4f-e317-8e8935bddb34"
      },
      "execution_count": 9,
      "outputs": [
        {
          "output_type": "execute_result",
          "data": {
            "text/plain": [
              "Canada    35.467\n",
              "France    63.951\n",
              "Name: G7 Population in millions, dtype: float64"
            ]
          },
          "metadata": {},
          "execution_count": 9
        }
      ]
    },
    {
      "cell_type": "markdown",
      "metadata": {
        "id": "_6rCzr8sfS6K"
      },
      "source": [
        "![green-divider](https://user-images.githubusercontent.com/7065401/52071924-c003ad80-2562-11e9-8297-1c6595f8a7ff.png)\n",
        "\n",
        "## Conditional selection (boolean arrays)\n",
        "\n",
        "The same boolean array techniques we saw applied to numpy arrays can be used for Pandas `Series`:"
      ]
    },
    {
      "cell_type": "code",
      "execution_count": null,
      "metadata": {
        "id": "u5zbag4mfS6L"
      },
      "outputs": [],
      "source": [
        "g7_pop"
      ]
    },
    {
      "cell_type": "code",
      "execution_count": null,
      "metadata": {
        "id": "dUrxftU5fS6L"
      },
      "outputs": [],
      "source": [
        "g7_pop > 70"
      ]
    },
    {
      "cell_type": "code",
      "execution_count": null,
      "metadata": {
        "id": "-OJQJUIBfS6L"
      },
      "outputs": [],
      "source": [
        "g7_pop[g7_pop > 70]"
      ]
    },
    {
      "cell_type": "code",
      "execution_count": null,
      "metadata": {
        "id": "6kI_1dJWfS6M"
      },
      "outputs": [],
      "source": [
        "g7_pop.mean()"
      ]
    },
    {
      "cell_type": "code",
      "execution_count": 10,
      "metadata": {
        "id": "zGXUL6s1fS6M",
        "colab": {
          "base_uri": "https://localhost:8080/"
        },
        "outputId": "cfeae636-122a-4fb3-f1c0-c00104f0c352"
      },
      "outputs": [
        {
          "output_type": "execute_result",
          "data": {
            "text/plain": [
              "Japan            127.061\n",
              "United States    318.523\n",
              "Name: G7 Population in millions, dtype: float64"
            ]
          },
          "metadata": {},
          "execution_count": 10
        }
      ],
      "source": [
        "g7_pop[g7_pop > g7_pop.mean()]"
      ]
    },
    {
      "cell_type": "code",
      "execution_count": null,
      "metadata": {
        "id": "oYbGEl9IfS6M"
      },
      "outputs": [],
      "source": [
        "g7_pop.std()"
      ]
    },
    {
      "cell_type": "code",
      "execution_count": null,
      "metadata": {
        "scrolled": true,
        "id": "Y4rC_sM3fS6N"
      },
      "outputs": [],
      "source": [
        "g7_pop[(g7_pop > g7_pop.mean() - g7_pop.std() / 2) | (g7_pop > g7_pop.mean() + g7_pop.std() / 2)]"
      ]
    },
    {
      "cell_type": "markdown",
      "metadata": {
        "id": "u8TAK0uWfS6N"
      },
      "source": [
        "![green-divider](https://user-images.githubusercontent.com/7065401/52071924-c003ad80-2562-11e9-8297-1c6595f8a7ff.png)\n",
        "\n",
        "## Operations and methods\n",
        "Series also support vectorized operations and aggregation functions as Numpy:"
      ]
    },
    {
      "cell_type": "code",
      "execution_count": null,
      "metadata": {
        "id": "zkBoYmoefS6N"
      },
      "outputs": [],
      "source": [
        "g7_pop * 1_000_000"
      ]
    },
    {
      "cell_type": "code",
      "execution_count": null,
      "metadata": {
        "id": "sCy-X1FGfS6O"
      },
      "outputs": [],
      "source": [
        "g7_pop.mean()"
      ]
    },
    {
      "cell_type": "code",
      "execution_count": null,
      "metadata": {
        "scrolled": true,
        "id": "3trgnAExfS6O"
      },
      "outputs": [],
      "source": [
        "np.log(g7_pop)"
      ]
    },
    {
      "cell_type": "code",
      "execution_count": null,
      "metadata": {
        "scrolled": false,
        "id": "Rkw9MxNyfS6P"
      },
      "outputs": [],
      "source": [
        "g7_pop['France': 'Italy'].mean()"
      ]
    },
    {
      "cell_type": "markdown",
      "metadata": {
        "id": "hlWS6TPKfS6P"
      },
      "source": [
        "![green-divider](https://user-images.githubusercontent.com/7065401/52071924-c003ad80-2562-11e9-8297-1c6595f8a7ff.png)\n",
        "\n",
        "## Boolean arrays\n",
        "(Work in the same way as numpy)"
      ]
    },
    {
      "cell_type": "code",
      "execution_count": null,
      "metadata": {
        "id": "6etF7OgtfS6P"
      },
      "outputs": [],
      "source": [
        "g7_pop"
      ]
    },
    {
      "cell_type": "code",
      "execution_count": null,
      "metadata": {
        "id": "58SbYRI4fS6Q"
      },
      "outputs": [],
      "source": [
        "g7_pop > 80"
      ]
    },
    {
      "cell_type": "code",
      "execution_count": null,
      "metadata": {
        "scrolled": true,
        "id": "vxiCGGLZfS6Q"
      },
      "outputs": [],
      "source": [
        "g7_pop[g7_pop > 80]"
      ]
    },
    {
      "cell_type": "code",
      "execution_count": null,
      "metadata": {
        "scrolled": true,
        "id": "Q9Xps8KOfS6Q"
      },
      "outputs": [],
      "source": [
        "g7_pop[(g7_pop > 80) | (g7_pop < 40)]"
      ]
    },
    {
      "cell_type": "code",
      "execution_count": null,
      "metadata": {
        "scrolled": true,
        "id": "M7Y1w8h_fS6Q"
      },
      "outputs": [],
      "source": [
        "g7_pop[(g7_pop > 80) & (g7_pop < 200)]"
      ]
    },
    {
      "cell_type": "markdown",
      "metadata": {
        "id": "6k_XpySTfS6Q"
      },
      "source": [
        "![green-divider](https://user-images.githubusercontent.com/7065401/52071924-c003ad80-2562-11e9-8297-1c6595f8a7ff.png)\n",
        "\n",
        "## Modifying series\n"
      ]
    },
    {
      "cell_type": "code",
      "execution_count": null,
      "metadata": {
        "id": "nkejwGdJfS6Q"
      },
      "outputs": [],
      "source": [
        "g7_pop['Canada'] = 40.5"
      ]
    },
    {
      "cell_type": "code",
      "execution_count": null,
      "metadata": {
        "id": "-Jz6QEgcfS6S"
      },
      "outputs": [],
      "source": [
        "g7_pop"
      ]
    },
    {
      "cell_type": "code",
      "execution_count": null,
      "metadata": {
        "id": "iNJO_2RSfS6S"
      },
      "outputs": [],
      "source": [
        "g7_pop.iloc[-1] = 500"
      ]
    },
    {
      "cell_type": "code",
      "execution_count": null,
      "metadata": {
        "scrolled": false,
        "id": "AeJk_fw_fS6S"
      },
      "outputs": [],
      "source": [
        "g7_pop"
      ]
    },
    {
      "cell_type": "code",
      "execution_count": null,
      "metadata": {
        "id": "3K4GvicxfS6S"
      },
      "outputs": [],
      "source": [
        "g7_pop[g7_pop < 70] = 99.99"
      ]
    },
    {
      "cell_type": "code",
      "execution_count": null,
      "metadata": {
        "scrolled": true,
        "id": "UmrbSq5BfS6S"
      },
      "outputs": [],
      "source": [
        "g7_pop"
      ]
    },
    {
      "cell_type": "markdown",
      "metadata": {
        "id": "LjwDpStvfS6T"
      },
      "source": [
        "![purple-divider](https://user-images.githubusercontent.com/7065401/52071927-c1cd7100-2562-11e9-908a-dde91ba14e59.png)\n"
      ]
    }
  ],
  "metadata": {
    "kernelspec": {
      "display_name": "Python 3",
      "language": "python",
      "name": "python3"
    },
    "language_info": {
      "codemirror_mode": {
        "name": "ipython",
        "version": 3
      },
      "file_extension": ".py",
      "mimetype": "text/x-python",
      "name": "python",
      "nbconvert_exporter": "python",
      "pygments_lexer": "ipython3",
      "version": "3.7.4"
    },
    "colab": {
      "name": "Copy of 1 - Pandas - Series-checkpoint.ipynb",
      "provenance": [],
      "collapsed_sections": [],
      "include_colab_link": true
    }
  },
  "nbformat": 4,
  "nbformat_minor": 0
}