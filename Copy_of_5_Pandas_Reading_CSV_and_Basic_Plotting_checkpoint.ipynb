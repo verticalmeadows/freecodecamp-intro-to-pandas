{
  "cells": [
    {
      "cell_type": "markdown",
      "metadata": {
        "id": "view-in-github",
        "colab_type": "text"
      },
      "source": [
        "<a href=\"https://colab.research.google.com/github/verticalmeadows/freecodecamp-intro-to-pandas/blob/master/Copy_of_5_Pandas_Reading_CSV_and_Basic_Plotting_checkpoint.ipynb\" target=\"_parent\"><img src=\"https://colab.research.google.com/assets/colab-badge.svg\" alt=\"Open In Colab\"/></a>"
      ]
    },
    {
      "cell_type": "markdown",
      "metadata": {
        "id": "ihjrC7kJ0IvM"
      },
      "source": [
        "![rmotr](https://user-images.githubusercontent.com/7065401/52071918-bda15380-2562-11e9-828c-7f95297e4a82.png)\n",
        "<hr style=\"margin-bottom: 40px;\">\n",
        "\n",
        "<img src=\"https://user-images.githubusercontent.com/7065401/75165824-badf4680-5701-11ea-9c5b-5475b0a33abf.png\"\n",
        "    style=\"width:300px; float: right; margin: 0 40px 40px 40px;\"></img>\n",
        "\n",
        "# Reading external data & Plotting\n",
        "\n",
        "[Source](https://blockchain.info/charts/market-price)"
      ]
    },
    {
      "cell_type": "markdown",
      "metadata": {
        "id": "KQrKDzq70Ivc"
      },
      "source": [
        "![purple-divider](https://user-images.githubusercontent.com/7065401/52071927-c1cd7100-2562-11e9-908a-dde91ba14e59.png)\n",
        "\n",
        "## Hands on! "
      ]
    },
    {
      "cell_type": "code",
      "execution_count": null,
      "metadata": {
        "id": "EJC5Ktt60Ivh"
      },
      "outputs": [],
      "source": [
        "import numpy as np\n",
        "import pandas as pd\n",
        "import matplotlib.pyplot as plt\n",
        "\n",
        "%matplotlib inline"
      ]
    },
    {
      "cell_type": "markdown",
      "metadata": {
        "id": "_uGezw_A0Ivl"
      },
      "source": [
        "Pandas can easily read data stored in different file formats like CSV, JSON, XML or even Excel. Parsing always involves specifying the correct structure, encoding and other details. The `read_csv` method reads CSV files and accepts many parameters."
      ]
    },
    {
      "cell_type": "code",
      "execution_count": null,
      "metadata": {
        "scrolled": true,
        "id": "K0Bpw1zS0Ivp"
      },
      "outputs": [],
      "source": [
        "pd.read_csv"
      ]
    },
    {
      "cell_type": "code",
      "execution_count": null,
      "metadata": {
        "id": "6_eemplB0Ivq"
      },
      "outputs": [],
      "source": [
        "df = pd.read_csv('data/btc-market-price.csv')"
      ]
    },
    {
      "cell_type": "code",
      "execution_count": null,
      "metadata": {
        "id": "wt97rakw0Ivr"
      },
      "outputs": [],
      "source": [
        "df.head()"
      ]
    },
    {
      "cell_type": "markdown",
      "metadata": {
        "id": "ZuQ1-uvz0Ivs"
      },
      "source": [
        "The CSV file we're reading has only two columns: `timestamp` and `price`. It doesn't have a header, it contains whitespaces and has values separated by commas. pandas automatically assigned the first row of data as headers, which is incorrect. We can overwrite this behavior with the `header` parameter:"
      ]
    },
    {
      "cell_type": "code",
      "execution_count": null,
      "metadata": {
        "id": "WHKIIg6g0Ivv"
      },
      "outputs": [],
      "source": [
        "df = pd.read_csv('data/btc-market-price.csv', header=None)"
      ]
    },
    {
      "cell_type": "code",
      "execution_count": null,
      "metadata": {
        "id": "8ThMRRxr0Iv3"
      },
      "outputs": [],
      "source": [
        "df.head()"
      ]
    },
    {
      "cell_type": "markdown",
      "metadata": {
        "id": "4ZZR4Fr60Iv7"
      },
      "source": [
        "We can then set the names of each column explicitely by setting the `df.columns` attribute:"
      ]
    },
    {
      "cell_type": "code",
      "execution_count": null,
      "metadata": {
        "id": "gntrMnyo0Iv7"
      },
      "outputs": [],
      "source": [
        "df.columns = ['Timestamp', 'Price']"
      ]
    },
    {
      "cell_type": "code",
      "execution_count": null,
      "metadata": {
        "id": "duup96MF0Iv8"
      },
      "outputs": [],
      "source": [
        "df.head()"
      ]
    },
    {
      "cell_type": "markdown",
      "metadata": {
        "id": "IV9lxYNp0Iv-"
      },
      "source": [
        "The type of the `Price` column was correctly interpreted as `float`, but the `Timestamp` was interpreted as a regular string (`object` in pandas notation):"
      ]
    },
    {
      "cell_type": "code",
      "execution_count": null,
      "metadata": {
        "id": "77oiJUru0Iv_"
      },
      "outputs": [],
      "source": [
        "df.dtypes"
      ]
    },
    {
      "cell_type": "markdown",
      "metadata": {
        "id": "QjzNgCk70IwA"
      },
      "source": [
        "We can perform a vectorized operation to parse all the Timestamp values as `Datetime` objects:"
      ]
    },
    {
      "cell_type": "code",
      "execution_count": null,
      "metadata": {
        "id": "TBZjg4NS0IwC"
      },
      "outputs": [],
      "source": [
        "pd.to_datetime(df['Timestamp']).head()"
      ]
    },
    {
      "cell_type": "code",
      "execution_count": null,
      "metadata": {
        "id": "7pZsO39V0IwE"
      },
      "outputs": [],
      "source": [
        "df['Timestamp'] = pd.to_datetime(df['Timestamp'])"
      ]
    },
    {
      "cell_type": "code",
      "execution_count": null,
      "metadata": {
        "scrolled": true,
        "id": "eNiGzP1w0IwF"
      },
      "outputs": [],
      "source": [
        "df.head()"
      ]
    },
    {
      "cell_type": "code",
      "execution_count": null,
      "metadata": {
        "id": "JfNAHK5h0IwG"
      },
      "outputs": [],
      "source": [
        "df.dtypes"
      ]
    },
    {
      "cell_type": "markdown",
      "metadata": {
        "id": "SifBDWWh0IwH"
      },
      "source": [
        "The timestamp looks a lot like the index of this `DataFrame`: `date > price`. We can change the autoincremental ID generated by pandas and use the `Timestamp DS` column as the Index:"
      ]
    },
    {
      "cell_type": "code",
      "execution_count": null,
      "metadata": {
        "id": "EdF8JeWj0IwI"
      },
      "outputs": [],
      "source": [
        "df.set_index('Timestamp', inplace=True)"
      ]
    },
    {
      "cell_type": "code",
      "execution_count": null,
      "metadata": {
        "id": "4ae34hlF0IwJ"
      },
      "outputs": [],
      "source": [
        "df.head()"
      ]
    },
    {
      "cell_type": "markdown",
      "metadata": {
        "id": "ij2bkpF60IwJ"
      },
      "source": [
        "![green-divider](https://user-images.githubusercontent.com/7065401/52071924-c003ad80-2562-11e9-8297-1c6595f8a7ff.png)\n",
        "\n",
        "## Putting everything together\n",
        "\n",
        "And now, we've finally arrived to the final, desired version of the `DataFrame` parsed from our CSV file. The steps were:"
      ]
    },
    {
      "cell_type": "code",
      "execution_count": null,
      "metadata": {
        "id": "SLlEWhe-0IwL"
      },
      "outputs": [],
      "source": [
        "df = pd.read_csv('data/btc-market-price.csv', header=None)\n",
        "df.columns = ['Timestamp', 'Price']\n",
        "df['Timestamp'] = pd.to_datetime(df['Timestamp'])\n",
        "df.set_index('Timestamp', inplace=True)"
      ]
    },
    {
      "cell_type": "code",
      "execution_count": null,
      "metadata": {
        "scrolled": false,
        "id": "g4oHk-e-0IwN"
      },
      "outputs": [],
      "source": [
        "df.head()"
      ]
    },
    {
      "cell_type": "markdown",
      "metadata": {
        "id": "uQXXw-CN0IwO"
      },
      "source": [
        "**There should be a better way**. And there is 😎. And there usually is, explicitly with all these repetitive tasks with pandas.\n",
        "\n",
        "The `read_csv` function is extremely powerful and you can specify many more parameters at import time. We can achive the same results with only one line by doing:"
      ]
    },
    {
      "cell_type": "code",
      "execution_count": null,
      "metadata": {
        "id": "ldbRpLTZ0IwQ"
      },
      "outputs": [],
      "source": [
        "df = pd.read_csv(\n",
        "    'data/btc-market-price.csv',\n",
        "    header=None,\n",
        "    names=['Timestamp', 'Price'],\n",
        "    index_col=0,\n",
        "    parse_dates=True\n",
        ")"
      ]
    },
    {
      "cell_type": "code",
      "execution_count": null,
      "metadata": {
        "scrolled": true,
        "id": "QgszwVtM0IwS"
      },
      "outputs": [],
      "source": [
        "df.head()"
      ]
    },
    {
      "cell_type": "markdown",
      "metadata": {
        "id": "1CMbQG7r0IwU"
      },
      "source": [
        "![green-divider](https://user-images.githubusercontent.com/7065401/52071924-c003ad80-2562-11e9-8297-1c6595f8a7ff.png)\n",
        "\n",
        "## Plotting basics\n",
        "\n",
        "`pandas` integrates with Matplotlib and creating a plot is as simple as:"
      ]
    },
    {
      "cell_type": "code",
      "execution_count": null,
      "metadata": {
        "scrolled": true,
        "id": "soBWF3lI0IwY"
      },
      "outputs": [],
      "source": [
        "df.plot()"
      ]
    },
    {
      "cell_type": "markdown",
      "metadata": {
        "id": "3xiQnHwZ0IwZ"
      },
      "source": [
        "Behind the scenes, it's using `matplotlib.pyplot`'s interface. We can create a similar plot with the `plt.plot()` function:"
      ]
    },
    {
      "cell_type": "code",
      "execution_count": null,
      "metadata": {
        "scrolled": true,
        "id": "bTvv8hoG0Iwa"
      },
      "outputs": [],
      "source": [
        "plt.plot(df.index, df['Price'])"
      ]
    },
    {
      "cell_type": "markdown",
      "metadata": {
        "id": "Stn0bK350Iwc"
      },
      "source": [
        "`plt.plot()` accepts many parameters, but the first two ones are the most important ones: the values for the `X` and `Y` axes. Another example:"
      ]
    },
    {
      "cell_type": "code",
      "execution_count": null,
      "metadata": {
        "id": "wsfOhJQT0Iwd"
      },
      "outputs": [],
      "source": [
        "x = np.arange(-10, 11)"
      ]
    },
    {
      "cell_type": "code",
      "execution_count": null,
      "metadata": {
        "scrolled": false,
        "id": "fFr7MLpf0Iwe"
      },
      "outputs": [],
      "source": [
        "plt.plot(x, x ** 2)"
      ]
    },
    {
      "cell_type": "markdown",
      "metadata": {
        "id": "o53mvPB_0Iwe"
      },
      "source": [
        "We're using `matplotlib`'s global API, which is horrible but it's the most popular one. We'll learn later how to use the _OOP_ API which will make our work much easier."
      ]
    },
    {
      "cell_type": "code",
      "execution_count": null,
      "metadata": {
        "scrolled": true,
        "id": "8_wSgUGH0Iwf"
      },
      "outputs": [],
      "source": [
        "plt.plot(x, x ** 2)\n",
        "plt.plot(x, -1 * (x ** 2))"
      ]
    },
    {
      "cell_type": "markdown",
      "metadata": {
        "id": "E0DDZ2Kd0Iwg"
      },
      "source": [
        "Each `plt` function alters the global state. If you want to set settings of your plot you can use the `plt.figure` function. Others like `plt.title` keep altering the global plot:"
      ]
    },
    {
      "cell_type": "code",
      "execution_count": null,
      "metadata": {
        "scrolled": false,
        "id": "7X-Fg4yn0Iwg"
      },
      "outputs": [],
      "source": [
        "plt.figure(figsize=(12, 6))\n",
        "plt.plot(x, x ** 2)\n",
        "plt.plot(x, -1 * (x ** 2))\n",
        "\n",
        "plt.title('My Nice Plot')"
      ]
    },
    {
      "cell_type": "markdown",
      "metadata": {
        "id": "C4QXEUZM0Iwh"
      },
      "source": [
        "Some of the arguments in `plt.figure` and `plt.plot` are available in the pandas' `plot` interface:"
      ]
    },
    {
      "cell_type": "code",
      "execution_count": null,
      "metadata": {
        "scrolled": true,
        "id": "9neFpuSM0Iwi"
      },
      "outputs": [],
      "source": [
        "df.plot(figsize=(16, 9), title='Bitcoin Price 2017-2018')"
      ]
    },
    {
      "cell_type": "markdown",
      "metadata": {
        "id": "rhrLxuzQ0Iwi"
      },
      "source": [
        "![green-divider](https://user-images.githubusercontent.com/7065401/52071924-c003ad80-2562-11e9-8297-1c6595f8a7ff.png)\n",
        "\n",
        "## A more challenging parsing\n",
        "\n",
        "To demonstrate plotting two columns together, we'll try to add Ether prices to our `df` DataFrame. The ETH prices data can be found in the `data/eth-price.csv` file. The problem is that it seems like that CSV file was created by someone who really hated programmers. Take a look at it and see how ugly it looks like. We'll still use `pandas` to parse it."
      ]
    },
    {
      "cell_type": "code",
      "execution_count": null,
      "metadata": {
        "scrolled": true,
        "id": "PNUIBORk0Iwj"
      },
      "outputs": [],
      "source": [
        "eth = pd.read_csv('data/eth-price.csv')\n",
        "\n",
        "eth.head()"
      ]
    },
    {
      "cell_type": "markdown",
      "metadata": {
        "id": "obG8oV740Iwk"
      },
      "source": [
        "As you can see, it has a `Value` column (which represents the price), a `Date(UTC)` one that has a string representing dates and also a `UnixTimeStamp` date represeting the datetime in unix timestamp format. The header is read automatically, let's try to parse dates with the CSV Reader:"
      ]
    },
    {
      "cell_type": "code",
      "execution_count": null,
      "metadata": {
        "id": "hilDkqHR0Iwk"
      },
      "outputs": [],
      "source": [
        "eth = pd.read_csv('data/eth-price.csv', parse_dates=True)\n",
        "\n",
        "print(eth.dtypes)\n",
        "eth.head()"
      ]
    },
    {
      "cell_type": "markdown",
      "metadata": {
        "id": "drYfJFnx0Iwl"
      },
      "source": [
        "Seems like the `parse_dates` attribute didn't work. We'll need to add a little bit more customization. Let's divide this problem and focus on the problem of \"date parsing\" first. The simplest option would be to use the `UnixTimeStamp` column. The `pandas` module has a `to_datetime` function that converts Unix timestamps to Datetime objects automatically:"
      ]
    },
    {
      "cell_type": "code",
      "execution_count": null,
      "metadata": {
        "id": "nmN2USgJ0Iwl"
      },
      "outputs": [],
      "source": [
        "pd.to_datetime(eth['UnixTimeStamp']).head()"
      ]
    },
    {
      "cell_type": "markdown",
      "metadata": {
        "id": "miFngsp30Iwm"
      },
      "source": [
        "The problem is the precision of unix timestamps. To match both columns we'll need to use the same index and, our `df` containing Bitcoin prices, is \"per day\":"
      ]
    },
    {
      "cell_type": "code",
      "execution_count": null,
      "metadata": {
        "scrolled": true,
        "id": "L1baihlL0Iwn"
      },
      "outputs": [],
      "source": [
        "df.head()"
      ]
    },
    {
      "cell_type": "markdown",
      "metadata": {
        "id": "JTk6eV7Z0Iwp"
      },
      "source": [
        "We could either, remove the precision of `UnixTimeStamp` or attempt to parse the `Date(UTC)`. Let's do String parsing of `Date(UTC)` for fun:"
      ]
    },
    {
      "cell_type": "code",
      "execution_count": null,
      "metadata": {
        "scrolled": false,
        "id": "J9zflpVc0Iwp"
      },
      "outputs": [],
      "source": [
        "pd.to_datetime(eth['Date(UTC)']).head()"
      ]
    },
    {
      "cell_type": "markdown",
      "metadata": {
        "id": "wW0CPUkc0Iwq"
      },
      "source": [
        "That seems to work fine! Why isn't it then parsing the `Date(UTC)` column? Simple, the `parse_dates=True` parameter will instruct pandas to parse the index of the `DataFrame`. If you want to parse any other column, you must explicitly pass the column position or name:"
      ]
    },
    {
      "cell_type": "code",
      "execution_count": null,
      "metadata": {
        "scrolled": false,
        "id": "U-qPHE6G0Iwr"
      },
      "outputs": [],
      "source": [
        "pd.read_csv('data/eth-price.csv', parse_dates=[0]).head()"
      ]
    },
    {
      "cell_type": "markdown",
      "metadata": {
        "id": "ULRXJjV10Iws"
      },
      "source": [
        "Putting everything together again:"
      ]
    },
    {
      "cell_type": "code",
      "execution_count": null,
      "metadata": {
        "scrolled": false,
        "id": "tbTQiZmY0Iws"
      },
      "outputs": [],
      "source": [
        "eth = pd.read_csv('data/eth-price.csv', parse_dates=True, index_col=0)\n",
        "print(eth.info())\n",
        "\n",
        "eth.head()"
      ]
    },
    {
      "cell_type": "markdown",
      "metadata": {
        "id": "m00844nu0Iwt"
      },
      "source": [
        "We can now combine both `DataFrame`s into one. Both have the same index, so aligning both prices will be easy. Let's first create an empty `DataFrame` and with the index from Bitcoin prices:"
      ]
    },
    {
      "cell_type": "code",
      "execution_count": null,
      "metadata": {
        "id": "TfDua6oj0Iwu"
      },
      "outputs": [],
      "source": [
        "prices = pd.DataFrame(index=df.index)"
      ]
    },
    {
      "cell_type": "code",
      "execution_count": null,
      "metadata": {
        "id": "gCkg6Vgz0Iwv"
      },
      "outputs": [],
      "source": [
        "prices.head()"
      ]
    },
    {
      "cell_type": "markdown",
      "metadata": {
        "id": "w1w-lV5_0Iwv"
      },
      "source": [
        "And we can now just set columns from the other `DataFrame`s:"
      ]
    },
    {
      "cell_type": "code",
      "execution_count": null,
      "metadata": {
        "id": "tQeeY8Ac0Iww"
      },
      "outputs": [],
      "source": [
        "prices['Bitcoin'] = df['Price']"
      ]
    },
    {
      "cell_type": "code",
      "execution_count": null,
      "metadata": {
        "id": "My2LxsDp0Iwx"
      },
      "outputs": [],
      "source": [
        "prices['Ether'] = eth['Value']"
      ]
    },
    {
      "cell_type": "code",
      "execution_count": null,
      "metadata": {
        "id": "DMVsj0Da0Iwx"
      },
      "outputs": [],
      "source": [
        "prices.head()"
      ]
    },
    {
      "cell_type": "markdown",
      "metadata": {
        "id": "ZSs9OsM10Iwy"
      },
      "source": [
        "We can now try plotting both values:"
      ]
    },
    {
      "cell_type": "code",
      "execution_count": null,
      "metadata": {
        "scrolled": true,
        "id": "SahXk0hW0Iwz"
      },
      "outputs": [],
      "source": [
        "prices.plot(figsize=(12, 6))"
      ]
    },
    {
      "cell_type": "markdown",
      "metadata": {
        "id": "4YjlneoF0Iw0"
      },
      "source": [
        "🤔seems like there's a tiny gap between Dec 2017 and Jan 2018. Let's zoom in there:"
      ]
    },
    {
      "cell_type": "code",
      "execution_count": null,
      "metadata": {
        "scrolled": false,
        "id": "eIDyeHpr0Iw1"
      },
      "outputs": [],
      "source": [
        "prices.loc['2017-12-01':'2018-01-01'].plot(figsize=(12, 6))"
      ]
    },
    {
      "cell_type": "markdown",
      "metadata": {
        "id": "rTsX4Lml0Iw2"
      },
      "source": [
        "Oh no, missing data 😱. We'll learn how to deal with that later 😉.\n",
        "\n",
        "Btw, did you note that fancy indexing `'2017-12-01':'2018-01-01'` 😏. That's pandas power 💪. We'll learn how to deal with TimeSeries later too."
      ]
    },
    {
      "cell_type": "markdown",
      "metadata": {
        "id": "vin2rKBg0Iw4"
      },
      "source": [
        "![purple-divider](https://user-images.githubusercontent.com/7065401/52071927-c1cd7100-2562-11e9-908a-dde91ba14e59.png)\n"
      ]
    }
  ],
  "metadata": {
    "kernelspec": {
      "display_name": "Python 3",
      "language": "python",
      "name": "python3"
    },
    "language_info": {
      "codemirror_mode": {
        "name": "ipython",
        "version": 3
      },
      "file_extension": ".py",
      "mimetype": "text/x-python",
      "name": "python",
      "nbconvert_exporter": "python",
      "pygments_lexer": "ipython3",
      "version": "3.7.4"
    },
    "colab": {
      "provenance": [],
      "include_colab_link": true
    }
  },
  "nbformat": 4,
  "nbformat_minor": 0
}